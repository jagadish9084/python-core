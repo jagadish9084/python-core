{
  "nbformat": 4,
  "nbformat_minor": 0,
  "metadata": {
    "colab": {
      "provenance": [],
      "authorship_tag": "ABX9TyNRX787TFPeXdHcmokwB2FZ",
      "include_colab_link": true
    },
    "kernelspec": {
      "name": "python3",
      "display_name": "Python 3"
    },
    "language_info": {
      "name": "python"
    }
  },
  "cells": [
    {
      "cell_type": "markdown",
      "metadata": {
        "id": "view-in-github",
        "colab_type": "text"
      },
      "source": [
        "<a href=\"https://colab.research.google.com/github/jagadish9084/python-core/blob/main/Lambda.ipynb\" target=\"_parent\"><img src=\"https://colab.research.google.com/assets/colab-badge.svg\" alt=\"Open In Colab\"/></a>"
      ]
    },
    {
      "cell_type": "code",
      "execution_count": 2,
      "metadata": {
        "id": "sNJkovdbXCkn"
      },
      "outputs": [],
      "source": [
        "# Create a list of Cities with lower case later\n",
        "\n",
        "cities = ['bangalore','mysore','bhalki','bidar','kalburgi','raichur','yadgir','davangere','hasan','vijapur']"
      ]
    },
    {
      "cell_type": "code",
      "source": [
        "# Modify cities to title case using lambda called city_modfier\n",
        "\n",
        "modified_cities = []\n",
        "\n",
        "city_modfier = lambda c: c.title()\n",
        "for city in cities:\n",
        "  modified_cities.append(city_modfier(city))\n",
        "\n",
        "print(modified_cities)"
      ],
      "metadata": {
        "colab": {
          "base_uri": "https://localhost:8080/"
        },
        "id": "s0AG_41KLqFv",
        "outputId": "fcb83db2-633e-4499-c1b5-feb93e5c26fe"
      },
      "execution_count": 4,
      "outputs": [
        {
          "output_type": "stream",
          "name": "stdout",
          "text": [
            "['Bangalore', 'Mysore', 'Bhalki', 'Bidar', 'Kalburgi', 'Raichur', 'Yadgir', 'Davangere', 'Hasan', 'Vijapur']\n"
          ]
        }
      ]
    }
  ]
}