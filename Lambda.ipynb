{
  "nbformat": 4,
  "nbformat_minor": 0,
  "metadata": {
    "colab": {
      "provenance": [],
      "authorship_tag": "ABX9TyMeBqzADIhtlYcyr15WGQ9c",
      "include_colab_link": true
    },
    "kernelspec": {
      "name": "python3",
      "display_name": "Python 3"
    },
    "language_info": {
      "name": "python"
    }
  },
  "cells": [
    {
      "cell_type": "markdown",
      "metadata": {
        "id": "view-in-github",
        "colab_type": "text"
      },
      "source": [
        "<a href=\"https://colab.research.google.com/github/jagadish9084/python-core/blob/main/Lambda.ipynb\" target=\"_parent\"><img src=\"https://colab.research.google.com/assets/colab-badge.svg\" alt=\"Open In Colab\"/></a>"
      ]
    },
    {
      "cell_type": "code",
      "execution_count": 9,
      "metadata": {
        "id": "sNJkovdbXCkn",
        "outputId": "63c8721a-cd27-4853-b627-8fbf447a696a",
        "colab": {
          "base_uri": "https://localhost:8080/"
        }
      },
      "outputs": [
        {
          "output_type": "stream",
          "name": "stdout",
          "text": [
            "['Bangalore', 'Mysore', 'Bhalki', 'Bidar', 'Kalburgi', 'Raichur', 'Yadgir', 'Davangere', 'Hasan', 'Vijapur']\n"
          ]
        }
      ],
      "source": [
        "# Example 1:\n",
        "#   Create a list of Cities with lower case latter and then convert all cities to title case\n",
        "\n",
        "cities = ['bangalore','mysore','bhalki','bidar','kalburgi','raichur','yadgir','davangere','hasan','vijapur']\n",
        "\n",
        "# Modify cities to title case using lambda called city_modfier\n",
        "\n",
        "city_modfier = lambda c: c.title()\n",
        "\n",
        "modified_cities = list(map(city_modfier, cities))\n",
        "\n",
        "print(modified_cities)"
      ]
    },
    {
      "cell_type": "code",
      "source": [
        "# Example 2 : Create a simple calculator for sum, sub, mul and div using lambda\n",
        "\n",
        "def calculate(cal, a, b):\n",
        "  print(cal(a, b))\n",
        "\n",
        "addition = lambda a, b: a + b\n",
        "substraction = lambda a, b: a - b\n",
        "multiplication = lambda a, b: a * b\n",
        "floor_div = lambda a, b: a // b\n",
        "\n",
        "calculate(addition, 3, 5)\n",
        "calculate(substraction, 5, 3)\n",
        "calculate(multiplication, 3, 5)\n",
        "calculate(floor_div, 50, 5)"
      ],
      "metadata": {
        "colab": {
          "base_uri": "https://localhost:8080/"
        },
        "id": "s0AG_41KLqFv",
        "outputId": "ca557724-d44a-4480-ffcd-df9433ead23b"
      },
      "execution_count": null,
      "outputs": [
        {
          "output_type": "stream",
          "name": "stdout",
          "text": [
            "8\n",
            "2\n",
            "15\n",
            "10\n"
          ]
        }
      ]
    }
  ]
}